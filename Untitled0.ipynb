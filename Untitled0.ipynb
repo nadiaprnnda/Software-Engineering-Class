{
  "nbformat": 4,
  "nbformat_minor": 0,
  "metadata": {
    "colab": {
      "name": "Untitled0.ipynb",
      "provenance": [],
      "authorship_tag": "ABX9TyNv3Gt/mdgwQr5J6ICgrWYo",
      "include_colab_link": true
    },
    "kernelspec": {
      "name": "python3",
      "display_name": "Python 3"
    },
    "language_info": {
      "name": "python"
    }
  },
  "cells": [
    {
      "cell_type": "markdown",
      "metadata": {
        "id": "view-in-github",
        "colab_type": "text"
      },
      "source": [
        "<a href=\"https://colab.research.google.com/github/nadiaprnnda/Software-Engineering-Class/blob/master/Untitled0.ipynb\" target=\"_parent\"><img src=\"https://colab.research.google.com/assets/colab-badge.svg\" alt=\"Open In Colab\"/></a>"
      ]
    },
    {
      "cell_type": "code",
      "metadata": {
        "id": "uYmeli6CXx4h"
      },
      "source": [
        "# Variable\n",
        "\n",
        "a = [] # array / list\n",
        "b = {} # dictionary\n",
        "c = 'A'\n",
        "d = True\n",
        "e = False\n",
        "nama = \"Nadia\""
      ],
      "execution_count": null,
      "outputs": []
    },
    {
      "cell_type": "code",
      "metadata": {
        "colab": {
          "base_uri": "https://localhost:8080/"
        },
        "id": "1PooLc5WYLjE",
        "outputId": "12ce4a4a-db60-4d8c-e15a-8edf8d63ab4b"
      },
      "source": [
        "List_1 = [\"Nadia\"] * 4\n",
        "List_1\n"
      ],
      "execution_count": null,
      "outputs": [
        {
          "output_type": "execute_result",
          "data": {
            "text/plain": [
              "['Nadia', 'Nadia', 'Nadia', 'Nadia']"
            ]
          },
          "metadata": {},
          "execution_count": 2
        }
      ]
    },
    {
      "cell_type": "code",
      "metadata": {
        "colab": {
          "base_uri": "https://localhost:8080/"
        },
        "id": "qghui5BHYTFd",
        "outputId": "dfc773a9-7a9f-4450-c4e3-ca5dadb582cc"
      },
      "source": [
        "print(nama)"
      ],
      "execution_count": null,
      "outputs": [
        {
          "output_type": "stream",
          "name": "stdout",
          "text": [
            "Nadia\n"
          ]
        }
      ]
    },
    {
      "cell_type": "code",
      "metadata": {
        "colab": {
          "base_uri": "https://localhost:8080/"
        },
        "id": "LW1KA_8xYd3p",
        "outputId": "7900e41a-8978-4592-bc41-84823ac7f749"
      },
      "source": [
        "Nama_Siswa = [\"Kevin\", \"Arya\", \"Dian\", \"Ran\", \"David\"]\n",
        "Nama_Siswa[-3:]"
      ],
      "execution_count": null,
      "outputs": [
        {
          "output_type": "execute_result",
          "data": {
            "text/plain": [
              "['Dian', 'Ran', 'David']"
            ]
          },
          "metadata": {},
          "execution_count": 4
        }
      ]
    },
    {
      "cell_type": "code",
      "metadata": {
        "colab": {
          "base_uri": "https://localhost:8080/"
        },
        "id": "nL2xQ3KOY2VC",
        "outputId": "52a016d2-0461-47b7-90fc-26dd1d2aca24"
      },
      "source": [
        "Nama_Siswa[0:2]"
      ],
      "execution_count": null,
      "outputs": [
        {
          "output_type": "execute_result",
          "data": {
            "text/plain": [
              "['Kevin', 'Arya']"
            ]
          },
          "metadata": {},
          "execution_count": 5
        }
      ]
    },
    {
      "cell_type": "code",
      "metadata": {
        "colab": {
          "base_uri": "https://localhost:8080/"
        },
        "id": "kH97Kv7pZZqJ",
        "outputId": "38491c75-b70c-4544-8204-a289909e57e4"
      },
      "source": [
        "print(Nama_Siswa[2])"
      ],
      "execution_count": null,
      "outputs": [
        {
          "output_type": "stream",
          "name": "stdout",
          "text": [
            "Dian\n"
          ]
        }
      ]
    },
    {
      "cell_type": "code",
      "metadata": {
        "id": "ghXGduWOeXM3",
        "colab": {
          "base_uri": "https://localhost:8080/"
        },
        "outputId": "7c7aeffc-75f2-4f04-c1f4-aa0b78643643"
      },
      "source": [
        "print(\"Nama saya: \" + Nama_Siswa[3])"
      ],
      "execution_count": null,
      "outputs": [
        {
          "output_type": "stream",
          "name": "stdout",
          "text": [
            "Nama saya: Ran\n"
          ]
        }
      ]
    }
  ]
}