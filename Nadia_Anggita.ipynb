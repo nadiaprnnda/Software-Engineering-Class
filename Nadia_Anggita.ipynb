{
  "nbformat": 4,
  "nbformat_minor": 0,
  "metadata": {
    "colab": {
      "name": "Nadia-Anggita.ipynb",
      "provenance": [],
      "authorship_tag": "ABX9TyP/kV+JajRhLGSuhiVFVmLp",
      "include_colab_link": true
    },
    "kernelspec": {
      "name": "python3",
      "display_name": "Python 3"
    },
    "language_info": {
      "name": "python"
    }
  },
  "cells": [
    {
      "cell_type": "markdown",
      "metadata": {
        "id": "view-in-github",
        "colab_type": "text"
      },
      "source": [
        "<a href=\"https://colab.research.google.com/github/nadiaprnnda/Software-Engineering-Class/blob/master/Nadia_Anggita.ipynb\" target=\"_parent\"><img src=\"https://colab.research.google.com/assets/colab-badge.svg\" alt=\"Open In Colab\"/></a>"
      ]
    },
    {
      "cell_type": "code",
      "metadata": {
        "colab": {
          "base_uri": "https://localhost:8080/"
        },
        "id": "UdEsrJ6wGCJ-",
        "outputId": "bbd659ec-f710-4a85-9068-95d6c0157876"
      },
      "source": [
        "a=int(input(\"Enter the 1st number: \"))\n",
        "b=int(input(\"Enter the 2nd number: \"))\n",
        "c=int(input(\"Enter the 3rd number: \"))\n",
        "d=int(input(\"Enter the 4th number: \"))\n",
        "if a > b and a > c and a > d:\n",
        "  print(a, \"is the bigger number.\")\n",
        "elif b > a and b > c and b > d:\n",
        "  print(b, \"is the bigger number.\")\n",
        "elif c > a and c > b and c > d:\n",
        "  print(c, \"is the bigger number.\")\n",
        "else:\n",
        "  print(d, \"is the bigger number.\")"
      ],
      "execution_count": 7,
      "outputs": [
        {
          "output_type": "stream",
          "name": "stdout",
          "text": [
            "Enter the 1st number: 1\n",
            "Enter the 2nd number: 2\n",
            "Enter the 3rd number: 30\n",
            "Enter the 4th number: 4\n",
            "30 is the bigger number.\n"
          ]
        }
      ]
    }
  ]
}